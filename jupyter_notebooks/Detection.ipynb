{
 "cells": [
  {
   "cell_type": "markdown",
   "metadata": {},
   "source": [
    "# Radar Detection Modeling\n",
    "\n",
    "## Introduction\n",
    "\n",
    "In this notebook, we cover a set of standard models for radar detection in the presence of noise.  These include the Swerling radar fluctuation models [[1]](#swerling_rm-1217) and the Marcum (non-fluctuating) model [[2]](#marcum_rm-753).\n",
    "\n",
    "In each case, we focus on finding a balance between setting a detection threshold above the mean system noise (regardless of what that mean is) that provides an acceptably low probability of a false noise detection with an acceptable probability of a successful target detection.  For many applications, probabilities of false alarm tend to be on the order of $10^{-8}$ to $10^{-3}$ and probabilities of target detection tend to be above $0.5$.\n",
    "\n",
    "Here, we cover the case where the fundamental mean system noise is Gaussian and is estimated perfectly.  A follow-on effort will cover the case where we are limited to a finite number of radar detection cells to estimate the mean of the total system noise (external and internal).\n",
    "\n",
    "We also focus here on the approach described in Mitchell and Walker [[3]](#mitchell-walker), which addresses the case where we have perfect knowledge of system noise and extends that to cases where system noise can only be estimated given a finite number of radar returns well away from any target."
   ]
  },
  {
   "cell_type": "markdown",
   "metadata": {},
   "source": [
    "## Probability of False Alarm\n",
    "\n",
    "The probability of false alarm given radar receiver noise and a square law detector is given by:\n",
    "\n",
    "$P_{fa} = \\frac{1}{(N-1)!} \\int_{t}^{\\infty} V^{N-1} e^{-V} dV $\n",
    "\n",
    "where $N$ is the number of non-coherently integrated pulses and $t$ is a pre-determined detection threshold (Ref 1 with change of notation per Ref 2).  Note that this is a version of upper [incomplete gamma function](https://en.wikipedia.org/wiki/Incomplete_gamma_function \"Incomplete Gamma Function\") that has been normalized by $ \\frac{1}{(N-1)!} $.  Note also that the [gamma_inc](https://juliamath.github.io/SpecialFunctions.jl/stable/functions_list/#SpecialFunctions.gamma_inc \"Julia gamma_inc Function\") function in Julia returns a tuple of both the upper and lower incomplete gamma function _ratios_, defined to be the respective incomplete gamma functions normalized by the Gamma function, $ \\Gamma(a) $. We note that $ \\Gamma(n) = (n-1)! $ for integer values of $ n > 0 $.  Thus, the probability of false alarm in the equation above is directly calculated by [gamma_inc](https://juliamath.github.io/SpecialFunctions.jl/stable/functions_list/#SpecialFunctions.gamma_inc \"Julia gamma_inc Function\") with the number of non-coherently integrated pulses, $ N $, as the first parameter and the pre-determined detection threshold, $ t $, as the second.  Note also that we only need the upper incomplete gamma function, which is the second value in the return tuple."
   ]
  },
  {
   "cell_type": "code",
   "execution_count": 1,
   "metadata": {},
   "outputs": [
    {
     "data": {
      "text/plain": [
       "Pfa (generic function with 1 method)"
      ]
     },
     "execution_count": 1,
     "metadata": {},
     "output_type": "execute_result"
    }
   ],
   "source": [
    "function Pfa(t,N)\n",
    "  return gamma_inc(N,t,0)[2]\n",
    "end"
   ]
  },
  {
   "cell_type": "markdown",
   "metadata": {},
   "source": [
    "## Detection Threshold\n",
    "\n",
    "To calculate the required detection threshold to achieve a specified probability of false alarm, we just need to solve the integral equation above for $ t $.  Fortunately Julia has the [gamma_inc_inv](https://juliamath.github.io/SpecialFunctions.jl/stable/functions_list/#SpecialFunctions.gamma_inc_inv \"Inverse Incomplete Gamma Function\") function that provides this.  The first parameter is the number of non-coherently integrated pulses ( $ N $ ), the second parameter is $ 1 - P_{fa} $, and the third parameter is $ P_{fa} $, where $ P_{fa} $ is the desired probability of false alarm."
   ]
  },
  {
   "cell_type": "code",
   "execution_count": 2,
   "metadata": {},
   "outputs": [
    {
     "data": {
      "text/plain": [
       "dt (generic function with 1 method)"
      ]
     },
     "execution_count": 2,
     "metadata": {},
     "output_type": "execute_result"
    }
   ],
   "source": [
    "function dt(pfa,N)\n",
    "    return gamma_inc_inv(N,1-pfa,pfa);\n",
    "end"
   ]
  },
  {
   "cell_type": "markdown",
   "metadata": {},
   "source": [
    "## Swerling Model Implementation\n",
    "There are numerous approaches for solving the Swerling model equations numerically.  Here we will implement a general purpose approach following Mitchell and Walker [[3]](#mitchell-walker).  We start with the case where the estimated mean of the receiver noise is identical to the actual mean of the receiver noise.  A future effort may also capture the case in the documentation where the receiver noise is estimated separately by a finite length cell-averaging Constant False Alarm Rate (CFAR) process.  Note that this initial case is equivalent to an infinite length cell-averaging CFAR."
   ]
  },
  {
   "cell_type": "markdown",
   "metadata": {},
   "source": [
    "## Chi-square Signal Plus Noise Distribution for Radar\n",
    "\n",
    "Per Mitchell and Walker [[3]](#mitchell-walker), the general probability of detection of any radar signal in the presence of gaussian receiver noise is\n",
    "\n",
    "$ P_D(\\bar{X},N) = \\sum_{j=0}^\\infty a(j,\\bar{X})g(N+j,t) $\n",
    "\n",
    "where $\\bar{X}$ is the average signal to noise ratio over the calculation interval, $N$ is the number of non-coherently integrated pulses during that calculation interval,\n",
    "\n",
    "$ g(n,t) = e^{-t}\\sum_{s=0}^{n-1} \\frac{t^s}{s!} $\n",
    "\n",
    "and\n",
    "\n",
    "$ a(j,\\bar{X}) = \\frac{1}{j!} \\int_{0}^{\\infty} X^j e^{-X}w(X,\\bar{X})dX $\n",
    "\n",
    "$ w(X,\\bar{X}) = \\frac{1}{\\Gamma(K)} \\left(K/\\bar{X}\\right)^K X^{K-1} e^{-KX/\\bar{X}} $ for $X>0$\n",
    "\n",
    "where $K$ is a target fluctuation parameter.  [[3]](#mitchell-walker) also provides recursive formulas for computing these which we will look at next.\n",
    "\n",
    "Cases of interest include:"
   ]
  },
  {
   "cell_type": "markdown",
   "metadata": {},
   "source": [
    "<table style=\"width:40%\" align=\"left\">\n",
    "<tr>\n",
    "<td style=\"text-align:left\">$0<K<1$</td>\n",
    "<td style=\"text-align:left\">Weinstock case</td>\n",
    "</tr>\n",
    "<tr>\n",
    "<td style=\"text-align:left\">$K=1$</td>\n",
    "<td style=\"text-align:left\">Swerling case 1</td>\n",
    "</tr>\n",
    "<tr>\n",
    "<td style=\"text-align:left\">$K=2$</td>\n",
    "<td style=\"text-align:left\">Swerling case 3</td>\n",
    "</tr>\n",
    "<tr>\n",
    "<td style=\"text-align:left\">$K=N$</td>\n",
    "<td style=\"text-align:left\">Swerling case 2</td>\n",
    "</tr>\n",
    "<tr>\n",
    "<td style=\"text-align:left\">$K=2N$</td>\n",
    "<td style=\"text-align:left\">Swerling case 4</td>\n",
    "</tr>\n",
    "<tr>\n",
    "<td style=\"text-align:left\">$K \\rightarrow \\infty$</td>\n",
    "<td style=\"text-align:left\">Marcum (or non-fluctuating) case</td>\n",
    "</tr>\n",
    "</table>"
   ]
  },
  {
   "cell_type": "markdown",
   "metadata": {},
   "source": [
    "### Recursive formulas[[3]](mitchell-walker)\n",
    "\n",
    "Reference [[3]](#mitchell-walker) identifies the following recursion formula for $g(n,t)$ and $a(j,\\bar{X})$.\n",
    "\n",
    "$g(n+1,t) = g(n,t) + t^ne^{-t}/n!$ for $n \\geq 1$ and $g(1,t) = e^{-t}$\n",
    "\n",
    "$a(j+1,\\bar{X},K) = \\frac{\\bar{X}(1+j/K)}{\\left(1+\\bar{X}/K\\right)(1+j)}a(j,\\bar{X},K)$ for $j \\geq 0$\n",
    "\n",
    "and\n",
    "\n",
    "$a(0,\\bar{X},K) = \\left(1+\\bar{X}/K\\right)^{-K}$ for finite $K$\n",
    "\n",
    "$a(0,\\bar{X},K) = e^{-\\bar{X}}$ for $K \\rightarrow \\infty$"
   ]
  },
  {
   "cell_type": "markdown",
   "metadata": {},
   "source": [
    "### Probability of Detection (finite $K$)\n",
    "\n",
    "We cover the case of finite $K$ first.  Note that the formulas in [[3]](mitchell-walker) and repeated above include the $\\bar{X}$ term, which is the average signal to noise ratio after integration.  It is more common in radar analysis to use the average single pulse signal to noise ratio as per the code below."
   ]
  },
  {
   "cell_type": "code",
   "execution_count": 3,
   "metadata": {},
   "outputs": [
    {
     "data": {
      "text/plain": [
       "Pd (generic function with 1 method)"
      ]
     },
     "execution_count": 3,
     "metadata": {},
     "output_type": "execute_result"
    }
   ],
   "source": [
    "function Pd(x, t, N, K)\n",
    "    \n",
    "    # calculate average integrated signal to noise ratio\n",
    "    x_bar = x*N\n",
    "    \n",
    "    # set calculation accuracy\n",
    "    err = 1e-14\n",
    "    \n",
    "    # initialize g(n,t) for the n=0 case\n",
    "    e = exp(-t)\n",
    "    g = e;\n",
    "    \n",
    "    # define and initialize a new function to support the interation of g(n,t)\n",
    "    h = e;\n",
    "    \n",
    "    # iterate to determine g(N,t)\n",
    "    for i = 1:N-1\n",
    "        h *= t/i\n",
    "        g += h\n",
    "    end\n",
    "    \n",
    "    # initialize a(j,X_bar) for the j=0 case and initialize the result of the Pd calculation\n",
    "    a = (1+x_bar/K)^(-K)\n",
    "    result = a*g\n",
    "    l = 1\n",
    "    j = 0\n",
    "    \n",
    "    # iterate until the last term is less than the set error\n",
    "    while l > err     \n",
    "        h *= t/(N+j)\n",
    "        g += h\n",
    "        a *= x_bar*(1+j/K) / (1+x_bar/K) / (1+j)\n",
    "        l = a*g\n",
    "        result += l\n",
    "        j += 1\n",
    "    end\n",
    "    return result\n",
    "end"
   ]
  },
  {
   "cell_type": "markdown",
   "metadata": {},
   "source": [
    "### Required Signal to Noise Ratio\n",
    "\n",
    "Here we need to do essentially the opposite of the $P_d$ calculation.\n",
    "\n",
    "Given that the $P_d$ calculations are well behaved, it is tempting to implement this via a Newton-Raphson method, where we start with an initial guess $x_0$ for a zero of the function of interest and refine it iteratively as such\n",
    "\n",
    "$ x_{n+1} = x_n - \\frac{f\\left(x_n\\right)}{f'\\left(x_n\\right)} $.\n",
    "\n",
    "In our case, $f(x) = P_d(x) - p$ and $p$ is the desired probability of detection. Note that parameters irrelevant to the iteration are not shown.\n",
    "\n",
    "It's tempting to use _CalculusWithJulia_ to estimate the $f'(x)$ term, but this doesn't work well out of the box as the calculation doesn't converge within a reasonable amount of time, or even an unreasonable amount of time.  It's not clear to me yet whether it is the $f'(x)$ estimation that isn't converging (quickly), if it's the Newton-Raphson method itself, or both.  Not sure when/if I'll get around to figuring this out.\n",
    "\n",
    "One approach to address this is to adapt the $P_d$ calculation above to return both the probability of detection and its derivative (or their ratio) simultaneously.  That also remains work to be done.\n",
    "\n",
    "Until then, a bit more of a brute force approach is offered here.  We note that the $P_d$ calculation above is monotonically increasing with increasing SNR for any choice of other relevant parameters.  We start then with a reasonable initial guess and find solution bounds above and below the valid result based on this initial guess.  We then iteratively update the guess by selecting an updated SNR guess between these bounds, calculating the resulting $P_d$, and setting this as the new upper or lower bound depending on the results.  The iteration ends when the difference between the upper and lower bounds is less than the specified error term."
   ]
  },
  {
   "cell_type": "code",
   "execution_count": 4,
   "metadata": {},
   "outputs": [
    {
     "data": {
      "text/plain": [
       "SNR (generic function with 1 method)"
      ]
     },
     "execution_count": 4,
     "metadata": {},
     "output_type": "execute_result"
    }
   ],
   "source": [
    "function SNR(pd, t, N, K)\n",
    "    err = 1e-14\n",
    "    guess = t/N\n",
    "    result = Pd(guess, t, N, K)\n",
    "    # brute force approach to quickly(?) find upper and lower bounds around the resulting solution\n",
    "    scale = 2\n",
    "    lower_bound = guess\n",
    "    lower_result = result\n",
    "    while lower_result > pd\n",
    "        lower_bound /= scale\n",
    "        lower_result = Pd(lower_bound, t, N, K)\n",
    "        scale+=1\n",
    "    end\n",
    "    scale = 2\n",
    "    upper_bound = guess\n",
    "    upper_result = result\n",
    "    while upper_result < pd\n",
    "        upper_bound *= scale\n",
    "        upper_result = Pd(upper_bound, t, N, K)\n",
    "        scale+=1\n",
    "    end\n",
    "    # iterate to find the solution\n",
    "    while(upper_bound-lower_bound>err)\n",
    "        guess = 0.5*(upper_bound+lower_bound)\n",
    "        result = Pd(guess, t, N, K)\n",
    "        if(result > pd)\n",
    "            upper_bound = guess\n",
    "        else\n",
    "            lower_bound = guess\n",
    "        end\n",
    "    end\n",
    "    return 0.5*(upper_bound+lower_bound)\n",
    "end"
   ]
  },
  {
   "cell_type": "markdown",
   "metadata": {},
   "source": [
    "## Examples"
   ]
  },
  {
   "cell_type": "code",
   "execution_count": 5,
   "metadata": {
    "collapsed": true
   },
   "outputs": [],
   "source": [
    "# some stuff up front\n",
    "dB(x) = 10. * log10(x)\n",
    "adB(x) = 10. ^ ( x / 10. )\n",
    "using SpecialFunctions"
   ]
  },
  {
   "cell_type": "markdown",
   "metadata": {},
   "source": [
    "### Probability of False Alarm and Detection Threshold"
   ]
  },
  {
   "cell_type": "code",
   "execution_count": 6,
   "metadata": {},
   "outputs": [
    {
     "data": {
      "text/plain": [
       "(32.71034051752392, 15.146850651922968)"
      ]
     },
     "execution_count": 6,
     "metadata": {},
     "output_type": "execute_result"
    }
   ],
   "source": [
    "pfa = 1e-6\n",
    "N = 10\n",
    "t = dt(pfa,N)\n",
    "(t, dB(t))"
   ]
  },
  {
   "cell_type": "markdown",
   "metadata": {},
   "source": [
    "### Probability of Detection and Required Signal to Noise Ratio\n",
    "\n",
    "Mitchell and Walker [[3]](#mitchell-walker) includes the following probability of detection values given perfect system noise estimation (infinite CFAR cells) and Swerling I, Swerling II, and Non-flucuating cases.  Those results are tabulated below.\n",
    "\n",
    "<table align=\"left\">\n",
    "    <thead>\n",
    "        <tr>\n",
    "            <th colspan=\"5\"style=\"text-align:left\">Swerling I</th>\n",
    "        </tr>\n",
    "        <tr>\n",
    "            <th colspan=\"4\" style=\"text-align:left\">Required SNR (dB)</th>\n",
    "        </tr>\n",
    "        <tr>\n",
    "            <th>N</th>\n",
    "            <th>Pd=0.10</th>\n",
    "            <th>Pd=0.50</th>\n",
    "            <th>Pd=0.90</th>\n",
    "            <th>Pd=0.99</th>\n",
    "        </tr>\n",
    "    </thead>\n",
    "    <tbody>\n",
    "        <tr>\n",
    "            <td>1</td>\n",
    "            <td>7.0</td>\n",
    "            <td>12.8</td>\n",
    "            <td>21.1</td>\n",
    "            <td>31.2</td>\n",
    "        </tr>\n",
    "        <tr>\n",
    "            <td>3</td>\n",
    "            <td>3.3</td>\n",
    "            <td>8.9</td>\n",
    "            <td>17.3</td>\n",
    "            <td>27.0</td>\n",
    "        </tr>\n",
    "        <tr>\n",
    "            <td>10</td>\n",
    "            <td>-0.4</td>\n",
    "            <td>5.1</td>\n",
    "            <td>13.7</td>\n",
    "            <td>23.8</td>\n",
    "        </tr>\n",
    "        <tr>\n",
    "            <td>30</td>\n",
    "            <td>-3.5</td>\n",
    "            <td>2.2</td>\n",
    "            <td>10.3</td>\n",
    "            <td>20.6</td>\n",
    "        </tr>\n",
    "        <tr>\n",
    "            <td>100</td>\n",
    "            <td>-6.6</td>\n",
    "            <td>-1.0</td>\n",
    "            <td>6.9</td>\n",
    "            <td>17.5</td>\n",
    "        </tr>\n",
    "    </tbody>\n",
    "</table>\n",
    "\n",
    "<table align=\"left\">\n",
    "    <thead>\n",
    "        <tr>\n",
    "            <th colspan=\"5\"style=\"text-align:left\">Swerling II</th>\n",
    "        </tr>\n",
    "        <tr>\n",
    "            <th colspan=\"4\" style=\"text-align:left\">Required SNR (dB)</th>\n",
    "        </tr>\n",
    "        <tr>\n",
    "            <th>N</th>\n",
    "            <th>Pd=0.10</th>\n",
    "            <th>Pd=0.50</th>\n",
    "            <th>Pd=0.90</th>\n",
    "            <th>Pd=0.99</th>\n",
    "        </tr>\n",
    "    </thead>\n",
    "    <tbody>\n",
    "        <tr>\n",
    "            <td>1</td>\n",
    "            <td>8.7</td>\n",
    "            <td>11.2</td>\n",
    "            <td>13.2</td>\n",
    "            <td>14.5</td>\n",
    "        </tr>\n",
    "        <tr>\n",
    "            <td>3</td>\n",
    "            <td>5.0</td>\n",
    "            <td>7.4</td>\n",
    "            <td>9.2</td>\n",
    "            <td>10.3</td>\n",
    "        </tr>\n",
    "        <tr>\n",
    "            <td>10</td>\n",
    "            <td>1.6</td>\n",
    "            <td>3.8</td>\n",
    "            <td>5.3</td>\n",
    "            <td>6.4</td>\n",
    "        </tr>\n",
    "        <tr>\n",
    "            <td>30</td>\n",
    "            <td>-1.3</td>\n",
    "            <td>0.6</td>\n",
    "            <td>2.0</td>\n",
    "            <td>3.0</td>\n",
    "        </tr>\n",
    "        <tr>\n",
    "            <td>100</td>\n",
    "            <td>-4.3</td>\n",
    "            <td>-2.6</td>\n",
    "            <td>-1.2</td>\n",
    "            <td>-0.3</td>\n",
    "        </tr>\n",
    "    </tbody>\n",
    "</table>\n",
    "\n",
    "<table align=\"left\">\n",
    "    <thead>\n",
    "        <tr>\n",
    "            <th colspan=\"5\"style=\"text-align:left\">Non-fluctuating Case (not yet implemented)</th>\n",
    "        </tr>\n",
    "        <tr>\n",
    "            <th colspan=\"4\" style=\"text-align:left\">Required SNR (dB)</th>\n",
    "        </tr>\n",
    "        <tr>\n",
    "            <th>N</th>\n",
    "            <th>Pd=0.10</th>\n",
    "            <th>Pd=0.50</th>\n",
    "            <th>Pd=0.90</th>\n",
    "            <th>Pd=0.99</th>\n",
    "        </tr>\n",
    "    </thead>\n",
    "    <tbody>\n",
    "        <tr>\n",
    "            <td>1</td>\n",
    "            <td>8.7</td>\n",
    "            <td>11.2</td>\n",
    "            <td>13.2</td>\n",
    "            <td>14.5</td>\n",
    "        </tr>\n",
    "        <tr>\n",
    "            <td>3</td>\n",
    "            <td>5.0</td>\n",
    "            <td>7.4</td>\n",
    "            <td>9.2</td>\n",
    "            <td>10.3</td>\n",
    "        </tr>\n",
    "        <tr>\n",
    "            <td>10</td>\n",
    "            <td>1.6</td>\n",
    "            <td>3.8</td>\n",
    "            <td>5.3</td>\n",
    "            <td>6.4</td>\n",
    "        </tr>\n",
    "        <tr>\n",
    "            <td>30</td>\n",
    "            <td>-1.3</td>\n",
    "            <td>0.6</td>\n",
    "            <td>2.0</td>\n",
    "            <td>3.0</td>\n",
    "        </tr>\n",
    "        <tr>\n",
    "            <td>100</td>\n",
    "            <td>-4.3</td>\n",
    "            <td>-2.6</td>\n",
    "            <td>-1.2</td>\n",
    "            <td>-0.3</td>\n",
    "        </tr>\n",
    "    </tbody>\n",
    "</table>"
   ]
  },
  {
   "cell_type": "code",
   "execution_count": 7,
   "metadata": {},
   "outputs": [
    {
     "data": {
      "text/plain": [
       "(3.301208879734931, 5.186730046230271, 0.4999999999999998)"
      ]
     },
     "execution_count": 7,
     "metadata": {},
     "output_type": "execute_result"
    }
   ],
   "source": [
    "pd = 0.5\n",
    "pfa = 1e-6\n",
    "N = 10\n",
    "t = dt(pfa,N)\n",
    "\n",
    "K = 1 # Swerling I\n",
    "#K = N # Swerling II\n",
    "#K = 2 # Swerling III\n",
    "#K = 2*N # Swerling IV\n",
    "\n",
    "snr = SNR(pd, t, N, K)\n",
    "pd = Pd(snr,t,N,K)\n",
    "(snr, dB(snr), pd)"
   ]
  },
  {
   "cell_type": "markdown",
   "metadata": {},
   "source": [
    "## References\n",
    "<a id=\"references\"></a>\n",
    "\n",
    "<a id=\"swerling_rm-1217\">[1]</a>\n",
    "Swerling, P., \"Probability of Detection for Fluctuating Targets,\" U.S. Air Force Project RAND Research Memorandum RM-1217, 17 March 1954.\n",
    "\n",
    "<a id=\"marcum_rm-753\">[2]</a>\n",
    "Marcum, J. I., \"A Statistical Theory of Target Detection by Pulsed Radar: Mathematical Appendix,\" U.S. Air Force PROJECT RAND Research Memorandum RM-753, 1 July 1948, Equation 39, p. 11.\n",
    "\n",
    "<a id=\"mitchell-walker\">[3]</a>\n",
    "Mitchell, R. L. and J. F. Walker, \"Recursive Methods for Computing Detection Probabilities.\" IEEE Transactions on Aerospace and Electronic Systems, Vol AES-7, No. 4, July 1971, pp. 671-676, Equation 10, p. 672."
   ]
  }
 ],
 "metadata": {
  "kernelspec": {
   "display_name": "Julia 1.5.1",
   "language": "julia",
   "name": "julia-1.5"
  },
  "language_info": {
   "file_extension": ".jl",
   "mimetype": "application/julia",
   "name": "julia",
   "version": "1.5.1"
  }
 },
 "nbformat": 4,
 "nbformat_minor": 2
}
